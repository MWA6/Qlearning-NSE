{
  "nbformat": 4,
  "nbformat_minor": 0,
  "metadata": {
    "colab": {
      "name": "Q-Learning Nifty50.ipynb",
      "provenance": []
    },
    "kernelspec": {
      "name": "python3",
      "display_name": "Python 3"
    }
  },
  "cells": [
    {
      "cell_type": "code",
      "metadata": {
        "id": "fMb8g3_QWHRI",
        "colab": {
          "base_uri": "https://localhost:8080/"
        },
        "outputId": "06ff61bc-733c-4cf1-a3bc-d57d2e4ab006"
      },
      "source": [
        "!pip install yfinance --upgrade --no-cache-dir"
      ],
      "execution_count": 1,
      "outputs": [
        {
          "output_type": "stream",
          "text": [
            "Collecting yfinance\n",
            "  Downloading https://files.pythonhosted.org/packages/a7/ee/315752b9ef281ba83c62aa7ec2e2074f85223da6e7e74efb4d3e11c0f510/yfinance-0.1.59.tar.gz\n",
            "Requirement already satisfied, skipping upgrade: pandas>=0.24 in /usr/local/lib/python3.7/dist-packages (from yfinance) (1.1.5)\n",
            "Requirement already satisfied, skipping upgrade: numpy>=1.15 in /usr/local/lib/python3.7/dist-packages (from yfinance) (1.19.5)\n",
            "Requirement already satisfied, skipping upgrade: requests>=2.20 in /usr/local/lib/python3.7/dist-packages (from yfinance) (2.23.0)\n",
            "Requirement already satisfied, skipping upgrade: multitasking>=0.0.7 in /usr/local/lib/python3.7/dist-packages (from yfinance) (0.0.9)\n",
            "Collecting lxml>=4.5.1\n",
            "\u001b[?25l  Downloading https://files.pythonhosted.org/packages/30/c0/d0526314971fc661b083ab135747dc68446a3022686da8c16d25fcf6ef07/lxml-4.6.3-cp37-cp37m-manylinux2014_x86_64.whl (6.3MB)\n",
            "\u001b[K     |████████████████████████████████| 6.3MB 35.9MB/s \n",
            "\u001b[?25hRequirement already satisfied, skipping upgrade: python-dateutil>=2.7.3 in /usr/local/lib/python3.7/dist-packages (from pandas>=0.24->yfinance) (2.8.1)\n",
            "Requirement already satisfied, skipping upgrade: pytz>=2017.2 in /usr/local/lib/python3.7/dist-packages (from pandas>=0.24->yfinance) (2018.9)\n",
            "Requirement already satisfied, skipping upgrade: certifi>=2017.4.17 in /usr/local/lib/python3.7/dist-packages (from requests>=2.20->yfinance) (2021.5.30)\n",
            "Requirement already satisfied, skipping upgrade: idna<3,>=2.5 in /usr/local/lib/python3.7/dist-packages (from requests>=2.20->yfinance) (2.10)\n",
            "Requirement already satisfied, skipping upgrade: urllib3!=1.25.0,!=1.25.1,<1.26,>=1.21.1 in /usr/local/lib/python3.7/dist-packages (from requests>=2.20->yfinance) (1.24.3)\n",
            "Requirement already satisfied, skipping upgrade: chardet<4,>=3.0.2 in /usr/local/lib/python3.7/dist-packages (from requests>=2.20->yfinance) (3.0.4)\n",
            "Requirement already satisfied, skipping upgrade: six>=1.5 in /usr/local/lib/python3.7/dist-packages (from python-dateutil>=2.7.3->pandas>=0.24->yfinance) (1.15.0)\n",
            "Building wheels for collected packages: yfinance\n",
            "  Building wheel for yfinance (setup.py) ... \u001b[?25l\u001b[?25hdone\n",
            "  Created wheel for yfinance: filename=yfinance-0.1.59-py2.py3-none-any.whl size=23455 sha256=9abbdd88e74eed248148a00016c9471bd44b1dbab3e51f7b60eccb60d2ea230d\n",
            "  Stored in directory: /tmp/pip-ephem-wheel-cache-rwyq9blp/wheels/f8/2a/0f/4b5a86e1d52e451757eb6bc17fd899629f0925c777741b6d04\n",
            "Successfully built yfinance\n",
            "Installing collected packages: lxml, yfinance\n",
            "  Found existing installation: lxml 4.2.6\n",
            "    Uninstalling lxml-4.2.6:\n",
            "      Successfully uninstalled lxml-4.2.6\n",
            "Successfully installed lxml-4.6.3 yfinance-0.1.59\n"
          ],
          "name": "stdout"
        }
      ]
    },
    {
      "cell_type": "markdown",
      "metadata": {
        "id": "qkBWfLrDKdfZ"
      },
      "source": [
        "Change the \"SNP\" ticker to the ticker of your choice!"
      ]
    },
    {
      "cell_type": "code",
      "metadata": {
        "id": "T2n7lH1vW_Os",
        "colab": {
          "base_uri": "https://localhost:8080/"
        },
        "outputId": "6307dd75-c1db-4af8-fb08-b93ec20ce330"
      },
      "source": [
        "import numpy as np\n",
        "import pandas as pd\n",
        "import matplotlib.pyplot as plt\n",
        "import seaborn as sns\n",
        "from pandas_datareader import data as pdr\n",
        "import yfinance as yf\n",
        "yf.pdr_override()\n",
        "df_full = pdr.get_data_yahoo(\"^NSEI\", start=\"2018-01-01\").reset_index()\n",
        "df_full.head()\n",
        "sns.set()"
      ],
      "execution_count": 5,
      "outputs": [
        {
          "output_type": "stream",
          "text": [
            "\r[*********************100%***********************]  1 of 1 completed\n"
          ],
          "name": "stdout"
        }
      ]
    },
    {
      "cell_type": "code",
      "metadata": {
        "id": "h5qogdhLXbn5",
        "colab": {
          "base_uri": "https://localhost:8080/"
        },
        "outputId": "4726d9e9-c311-43fc-9a4e-478a86525005"
      },
      "source": [
        "from collections import deque\n",
        "import random\n",
        "from tensorflow.python.framework import ops\n",
        "%tensorflow_version 1.x\n",
        "\n",
        "df= df_full.copy()\n",
        "name = 'Q-learning agent'\n",
        "\n",
        "class Agent:\n",
        "    def __init__(self, state_size, window_size, trend, skip, batch_size):\n",
        "        self.state_size = state_size\n",
        "        self.window_size = window_size\n",
        "        self.half_window = window_size // 2\n",
        "        self.trend = trend\n",
        "        self.skip = skip\n",
        "        self.action_size = 3\n",
        "        self.batch_size = batch_size\n",
        "        self.memory = deque(maxlen = 1000)\n",
        "        self.inventory = []\n",
        "\n",
        "        self.gamma = 0.95\n",
        "        self.epsilon = 0.5\n",
        "        self.epsilon_min = 0.01\n",
        "        self.epsilon_decay = 0.999\n",
        "\n",
        "        ops.reset_default_graph()\n",
        "        self.sess=tf.compat.v1.InteractiveSession()\n",
        "        self.X = tf.placeholder(tf.float32, [None, self.state_size])\n",
        "        self.Y = tf.placeholder(tf.float32, [None, self.action_size])\n",
        "        feed = tf.layers.dense(self.X, 256, activation = tf.nn.relu)\n",
        "        self.logits = tf.layers.dense(feed, self.action_size)\n",
        "        self.cost = tf.reduce_mean(tf.square(self.Y - self.logits))\n",
        "        self.optimizer = tf.train.GradientDescentOptimizer(1e-5).minimize(\n",
        "            self.cost\n",
        "        )\n",
        "        self.sess.run(tf.global_variables_initializer())\n",
        "\n",
        "    def act(self, state):\n",
        "        if random.random() <= self.epsilon:\n",
        "            return random.randrange(self.action_size)\n",
        "        return np.argmax(\n",
        "            self.sess.run(self.logits, feed_dict = {self.X: state})[0]\n",
        "        )\n",
        "    \n",
        "    def get_state(self, t):\n",
        "        window_size = self.window_size + 1\n",
        "        d = t - window_size + 1\n",
        "        block = self.trend[d : t + 1] if d >= 0 else -d * [self.trend[0]] + self.trend[0 : t + 1]\n",
        "        res = []\n",
        "        for i in range(window_size - 1):\n",
        "            res.append(block[i + 1] - block[i])\n",
        "        return np.array([res])\n",
        "\n",
        "    def replay(self, batch_size):\n",
        "        mini_batch = []\n",
        "        l = len(self.memory)\n",
        "        for i in range(l - batch_size, l):\n",
        "            mini_batch.append(self.memory[i])\n",
        "        replay_size = len(mini_batch)\n",
        "        X = np.empty((replay_size, self.state_size))\n",
        "        Y = np.empty((replay_size, self.action_size))\n",
        "        states = np.array([a[0][0] for a in mini_batch])\n",
        "        new_states = np.array([a[3][0] for a in mini_batch])\n",
        "        Q = self.sess.run(self.logits, feed_dict = {self.X: states})\n",
        "        Q_new = self.sess.run(self.logits, feed_dict = {self.X: new_states})\n",
        "        for i in range(len(mini_batch)):\n",
        "            state, action, reward, next_state, done = mini_batch[i]\n",
        "            target = Q[i]\n",
        "            target[action] = reward\n",
        "            if not done:\n",
        "                target[action] += self.gamma * np.amax(Q_new[i])\n",
        "            X[i] = state\n",
        "            Y[i] = target\n",
        "        cost, _ = self.sess.run(\n",
        "            [self.cost, self.optimizer], feed_dict = {self.X: X, self.Y: Y}\n",
        "        )\n",
        "        if self.epsilon > self.epsilon_min:\n",
        "            self.epsilon *= self.epsilon_decay\n",
        "        return cost\n",
        "    \n",
        "    def buy(self, initial_money):\n",
        "        starting_money = initial_money\n",
        "        states_sell = []\n",
        "        states_buy = []\n",
        "        inventory = []\n",
        "        state = self.get_state(0)\n",
        "        for t in range(0, len(self.trend) - 1, self.skip):\n",
        "            action = self.act(state)\n",
        "            next_state = self.get_state(t + 1)\n",
        "            \n",
        "            if action == 1 and initial_money >= self.trend[t] and t < (len(self.trend) - self.half_window):\n",
        "                inventory.append(self.trend[t])\n",
        "                initial_money -= self.trend[t]\n",
        "                states_buy.append(t)\n",
        "                print('day %d: buy 1 unit at price %f, total balance %f'% (t, self.trend[t], initial_money))\n",
        "                \n",
        "                \n",
        "            elif action == 2 and len(inventory):\n",
        "                bought_price = inventory.pop(0)\n",
        "                initial_money += self.trend[t]\n",
        "                states_sell.append(t)\n",
        "                try:\n",
        "                    invest = ((close[t] - bought_price) / bought_price) * 100\n",
        "                except:\n",
        "                    invest = 0\n",
        "                print(\n",
        "                    'day %d, sell 1 unit at price %f, investment %f %%, total balance %f,'\n",
        "                    % (t, close[t], invest, initial_money)\n",
        "                )\n",
        "            \n",
        "            state = next_state\n",
        "        invest = ((initial_money - starting_money) / starting_money) * 100\n",
        "        total_gains = initial_money - starting_money\n",
        "        return states_buy, states_sell, total_gains, invest\n",
        "        \n",
        "    def train(self, iterations, checkpoint, initial_money):\n",
        "        for i in range(iterations):\n",
        "            total_profit = 0\n",
        "            inventory = []\n",
        "            state = self.get_state(0)\n",
        "            starting_money = initial_money\n",
        "            for t in range(0, len(self.trend) - 1, self.skip):\n",
        "                action = self.act(state)\n",
        "                next_state = self.get_state(t + 1)\n",
        "                \n",
        "                if action == 1 and starting_money >= self.trend[t] and t < (len(self.trend) - self.half_window):\n",
        "                    inventory.append(self.trend[t])\n",
        "                    starting_money -= self.trend[t]\n",
        "                \n",
        "                elif action == 2 and len(inventory) > 0:\n",
        "                    bought_price = inventory.pop(0)\n",
        "                    total_profit += self.trend[t] - bought_price\n",
        "                    starting_money += self.trend[t]\n",
        "                    \n",
        "                invest = ((starting_money - initial_money) / initial_money)\n",
        "                self.memory.append((state, action, invest, \n",
        "                                    next_state, starting_money < initial_money))\n",
        "                state = next_state\n",
        "                batch_size = min(self.batch_size, len(self.memory))\n",
        "                cost = self.replay(batch_size)\n",
        "            if (i+1) % checkpoint == 0:\n",
        "                print('epoch: %d, total rewards: %f.3, cost: %f, total money: %f'%(i + 1, total_profit, cost,\n",
        "                                                                                  starting_money))"
      ],
      "execution_count": 7,
      "outputs": [
        {
          "output_type": "stream",
          "text": [
            "TensorFlow is already loaded. Please restart the runtime to change versions.\n"
          ],
          "name": "stdout"
        }
      ]
    },
    {
      "cell_type": "markdown",
      "metadata": {
        "id": "kLTXKgHVKMQB"
      },
      "source": [
        "You can change the \"initial money\", as well as all other settings to whatever you please!"
      ]
    },
    {
      "cell_type": "code",
      "metadata": {
        "id": "vQ-jruhiXdvD",
        "colab": {
          "base_uri": "https://localhost:8080/"
        },
        "outputId": "3a9dfcce-459c-42c0-b64d-36405cf0ab5e"
      },
      "source": [
        "import tensorflow.compat.v1 as tf\n",
        "tf.disable_v2_behavior()\n",
        "\n",
        "close = df.Close.values.tolist()\n",
        "initial_money = 10000\n",
        "window_size = 30\n",
        "skip = 1\n",
        "batch_size = 32\n",
        "agent = Agent(state_size = window_size, \n",
        "              window_size = window_size, \n",
        "              trend = close, \n",
        "              skip = skip, \n",
        "              batch_size = batch_size)\n",
        "agent.train(iterations = 500, checkpoint = 10, initial_money = initial_money)"
      ],
      "execution_count": 14,
      "outputs": [
        {
          "output_type": "stream",
          "text": [
            "/usr/local/lib/python3.7/dist-packages/tensorflow/python/client/session.py:1761: UserWarning: An interactive session is already active. This can cause out-of-memory errors in some cases. You must explicitly call `InteractiveSession.close()` to release resources held by the other session(s).\n",
            "  warnings.warn('An interactive session is already active. This can '\n",
            "/usr/local/lib/python3.7/dist-packages/tensorflow/python/keras/legacy_tf_layers/core.py:171: UserWarning: `tf.layers.dense` is deprecated and will be removed in a future version. Please use `tf.keras.layers.Dense` instead.\n",
            "  warnings.warn('`tf.layers.dense` is deprecated and '\n",
            "/usr/local/lib/python3.7/dist-packages/tensorflow/python/keras/engine/base_layer_v1.py:1692: UserWarning: `layer.apply` is deprecated and will be removed in a future version. Please use `layer.__call__` method instead.\n",
            "  warnings.warn('`layer.apply` is deprecated and '\n"
          ],
          "name": "stderr"
        },
        {
          "output_type": "stream",
          "text": [
            "epoch: 10, total rewards: -1323.550781.3, cost: 0.101433, total money: 8676.449219\n",
            "epoch: 20, total rewards: 0.000000.3, cost: 0.086714, total money: 10000.000000\n",
            "epoch: 30, total rewards: -713.250000.3, cost: 0.015669, total money: 9286.750000\n",
            "epoch: 40, total rewards: 1028.550781.3, cost: 0.145167, total money: 11028.550781\n",
            "epoch: 50, total rewards: 0.000000.3, cost: 0.279731, total money: 10000.000000\n",
            "epoch: 60, total rewards: -685.950195.3, cost: 0.011272, total money: 9314.049805\n",
            "epoch: 70, total rewards: 3221.449219.3, cost: 0.160478, total money: 13221.449219\n",
            "epoch: 80, total rewards: 0.000000.3, cost: 0.310236, total money: 10000.000000\n",
            "epoch: 90, total rewards: 1737.000000.3, cost: 0.011828, total money: 11737.000000\n",
            "epoch: 100, total rewards: 0.000000.3, cost: 0.242021, total money: 10000.000000\n",
            "epoch: 110, total rewards: 2231.899414.3, cost: 0.049672, total money: 12231.899414\n",
            "epoch: 120, total rewards: 0.000000.3, cost: 0.840550, total money: 10000.000000\n",
            "epoch: 130, total rewards: 0.000000.3, cost: 0.314145, total money: 10000.000000\n",
            "epoch: 140, total rewards: 0.000000.3, cost: 0.296897, total money: 10000.000000\n",
            "epoch: 150, total rewards: 0.000000.3, cost: 0.105285, total money: 10000.000000\n",
            "epoch: 160, total rewards: 0.000000.3, cost: 0.037605, total money: 10000.000000\n",
            "epoch: 170, total rewards: 0.000000.3, cost: 0.195290, total money: 10000.000000\n",
            "epoch: 180, total rewards: 93.251953.3, cost: 0.092387, total money: 10093.251953\n",
            "epoch: 190, total rewards: 0.000000.3, cost: 0.095786, total money: 10000.000000\n",
            "epoch: 200, total rewards: 1364.050781.3, cost: 0.042538, total money: 11364.050781\n",
            "epoch: 210, total rewards: 1512.850586.3, cost: 0.034986, total money: 11512.850586\n",
            "epoch: 220, total rewards: 0.000000.3, cost: 0.115991, total money: 10000.000000\n",
            "epoch: 230, total rewards: -685.950195.3, cost: 0.035861, total money: 9314.049805\n",
            "epoch: 240, total rewards: 3160.000000.3, cost: 0.071551, total money: 13160.000000\n",
            "epoch: 250, total rewards: 0.000000.3, cost: 0.143858, total money: 10000.000000\n",
            "epoch: 260, total rewards: -229.450195.3, cost: 0.016254, total money: 9770.549805\n",
            "epoch: 270, total rewards: -879.550781.3, cost: 0.008605, total money: 9120.449219\n",
            "epoch: 280, total rewards: 0.000000.3, cost: 0.147548, total money: 10000.000000\n",
            "epoch: 290, total rewards: 1546.701172.3, cost: 0.008832, total money: 11546.701172\n",
            "epoch: 300, total rewards: 1695.049805.3, cost: 0.014255, total money: 11695.049805\n",
            "epoch: 310, total rewards: -306.250000.3, cost: 0.006924, total money: 9693.750000\n",
            "epoch: 320, total rewards: 0.000000.3, cost: 0.121671, total money: 10000.000000\n",
            "epoch: 330, total rewards: 0.000000.3, cost: 0.072344, total money: 10000.000000\n",
            "epoch: 340, total rewards: 211.349609.3, cost: 0.059436, total money: 10211.349609\n",
            "epoch: 350, total rewards: 1020.349609.3, cost: 0.011139, total money: 11020.349609\n",
            "epoch: 360, total rewards: -41.750000.3, cost: 0.007365, total money: 9958.250000\n",
            "epoch: 370, total rewards: 0.000000.3, cost: 0.077064, total money: 10000.000000\n",
            "epoch: 380, total rewards: 339.500000.3, cost: 0.135587, total money: 10339.500000\n",
            "epoch: 390, total rewards: 110.299805.3, cost: 0.062521, total money: 10110.299805\n",
            "epoch: 400, total rewards: 0.000000.3, cost: 0.032686, total money: 10000.000000\n",
            "epoch: 410, total rewards: 927.599609.3, cost: 0.133130, total money: 10927.599609\n",
            "epoch: 420, total rewards: 1872.300781.3, cost: 0.007599, total money: 11872.300781\n",
            "epoch: 430, total rewards: 0.000000.3, cost: 0.121216, total money: 10000.000000\n",
            "epoch: 440, total rewards: 567.650391.3, cost: 0.105440, total money: 10567.650391\n",
            "epoch: 450, total rewards: 1611.950195.3, cost: 0.010414, total money: 11611.950195\n",
            "epoch: 460, total rewards: -145.250000.3, cost: 0.011556, total money: 9854.750000\n",
            "epoch: 470, total rewards: 0.000000.3, cost: 0.099575, total money: 10000.000000\n",
            "epoch: 480, total rewards: 1140.649414.3, cost: 0.005397, total money: 11140.649414\n",
            "epoch: 490, total rewards: -96.450195.3, cost: 0.002476, total money: 9903.549805\n",
            "epoch: 500, total rewards: 0.000000.3, cost: 0.023037, total money: 10000.000000\n"
          ],
          "name": "stdout"
        }
      ]
    },
    {
      "cell_type": "code",
      "metadata": {
        "id": "E8tdKeTuXgx3",
        "colab": {
          "base_uri": "https://localhost:8080/"
        },
        "outputId": "b63bbfa7-b6a4-4643-e861-34737cc2e429"
      },
      "source": [
        "states_buy, states_sell, total_gains, invest = agent.buy(initial_money = initial_money)"
      ],
      "execution_count": 19,
      "outputs": [
        {
          "output_type": "stream",
          "text": [
            "day 55: buy 1 unit at price 9998.049805, total balance 1.950195\n",
            "day 70, sell 1 unit at price 10548.700195, investment 5.507578 %, total balance 10550.650391,\n",
            "day 93: buy 1 unit at price 10516.700195, total balance 33.950195\n",
            "day 107, sell 1 unit at price 10767.650391, investment 2.386207 %, total balance 10801.600586,\n",
            "day 203: buy 1 unit at price 10198.400391, total balance 603.200195\n",
            "day 395, sell 1 unit at price 11029.400391, investment 8.148337 %, total balance 11632.600586,\n",
            "day 612: buy 1 unit at price 10799.650391, total balance 832.950195\n",
            "day 829, sell 1 unit at price 15197.700195, investment 40.724002 %, total balance 16030.650391,\n"
          ],
          "name": "stdout"
        }
      ]
    },
    {
      "cell_type": "code",
      "metadata": {
        "id": "qK_N5WZjZUAt",
        "colab": {
          "base_uri": "https://localhost:8080/",
          "height": 338
        },
        "outputId": "053a51f1-c2e0-47ef-97ea-3c32bf074721"
      },
      "source": [
        "fig = plt.figure(figsize = (15,5))\n",
        "plt.plot(close, color='r', lw=2.)\n",
        "plt.plot(close, '^', markersize=10, color='m', label = 'buying signal', markevery = states_buy)\n",
        "plt.plot(close, 'v', markersize=10, color='k', label = 'selling signal', markevery = states_sell)\n",
        "plt.title('Nifty 50 | Total gains in INR: %f, Total Investment: %f%%'%(total_gains, invest))\n",
        "plt.legend()\n",
        "plt.show()"
      ],
      "execution_count": 20,
      "outputs": [
        {
          "output_type": "display_data",
          "data": {
            "image/png": "[encoded data removed]",
            "text/plain": [
              "<Figure size 1080x360 with 1 Axes>"
            ]
          },
          "metadata": {
            "tags": []
          }
        }
      ]
    },
    {
      "cell_type": "code",
      "metadata": {
        "id": "jO301p8heLNE"
      },
      "source": [
        ""
      ],
      "execution_count": null,
      "outputs": []
    }
  ]
}